{
 "cells": [
  {
   "cell_type": "markdown",
   "metadata": {},
   "source": [
    "# ACCRE Basic How-Tos\n",
    "\n",
    "This how-to will help you to learn how to run the code in Jupyter notebooks.  If you'd like to run the code in your repository, this will teach you how to do it!"
   ]
  },
  {
   "cell_type": "markdown",
   "metadata": {},
   "source": [
    "## The *very* basics\n",
    "Jupyter notebooks are organized by cells.  Cells are chunks of information that are all evaluated at the same time, depending on the cell types.  There are 2 relevant types of cells that are most commonly used:\n",
    "\n",
    "1. **Markdown cells**: These cells show formatted text\n",
    "2. **Code cells**: These cells execute code in the language of the kernel (if you're using the ACCRE-provided Anaconda and defaults, it's Python)"
   ]
  },
  {
   "cell_type": "markdown",
   "metadata": {},
   "source": [
    "To see the raw, unexecuted content of cells, simply double click them to edit.  The effect of this will be obvious for Markdown cells.  Go ahead - double click somewhere in the text and see the difference!\n",
    "\n",
    "To run (or execute) a single cell, type `Shift+Enter` (e.g., click `Enter` while holding down the `Shift` key).  Try it now!  Notice the difference in the text.\n",
    "\n",
    "If you have a set of cells, you can also run all of them at one time, or even up to  certain point.  Check out the `Cell` menu in the menu bar above.  To run all cells, simply click `Run All`.  You can also make other selections.\n",
    "\n",
    "The following cell will be a code cell, and the code is written in Python.  Lines preceded by a `#` are comments and are there to help developers write plain text information about the low(er)-level tasks performed by that code.  They are basically ignored by the Python interpreter."
   ]
  },
  {
   "cell_type": "code",
   "execution_count": null,
   "metadata": {},
   "outputs": [],
   "source": [
    "#This is a code cell.  Run it by pressing shift+enter (as above)\n",
    "1+1"
   ]
  },
  {
   "cell_type": "code",
   "execution_count": null,
   "metadata": {},
   "outputs": [],
   "source": [
    "#This cell will print a statement using the print command.  You know how to run it!\n",
    "print_statement = \"Hello World!\"\n",
    "print(print_statement)"
   ]
  },
  {
   "cell_type": "markdown",
   "metadata": {},
   "source": [
    "After you evaluate the code cell, you can see that another line appears which shows the output of the cell.  Only the last output of the cell (if you have several lines of code in a single cell) appears in the output (without the assistance of a `print` command to print other lines).  Try making changes to the code above to create the output `Data science is awesome!!`  Notice that you must run the cell again to make your changes appear.  Notice the change in the number associated with both the inputs and outputs.\n",
    "\n",
    "Also, you may execute code cells which sometimes take a long time to run.  You can tell if your cell is currently being evaluated by looking at what is in between brackets in the `In [ ]:` beside your cell.  If it appears as `In [*]:`, this means that particular cell is either currently executing or waiting to be executed.  For quick tasks, you may not even see it appear.\n",
    "\n",
    "Try running more code below!"
   ]
  },
  {
   "cell_type": "code",
   "execution_count": null,
   "metadata": {},
   "outputs": [],
   "source": [
    "a_sentence = \"Jupyter notebooks \"\n",
    "b_sentence = \"are sooooo awesome\"\n",
    "c_punct = \"!!!\"\n",
    "a_sentence + b_sentence + c_punct"
   ]
  },
  {
   "cell_type": "markdown",
   "metadata": {},
   "source": [
    "## For more information\n",
    "For more information, go to [here](https://jupyter.org/) and click the orange button which says `Try it in your browser`.  There are a full set of tutorials there to demo the power of the Jupyter notebook."
   ]
  },
  {
   "cell_type": "markdown",
   "metadata": {},
   "source": [
    "## Finished?\n",
    "When you're finished with this notebook, you can simply close the tab.  If you wish, when you can go back to your Jupyter Dashboard, click the checkbox next to it, and then click the `Shutdown` button which then appears.  This shuts down the kernel associated with this notebook.  Then, close the Jupyter Dashboard.\n",
    "\n",
    "**REMEMBER** that you now need to also free up ACCRE's shared CPU/GPU resources you are currently using so that other groups may use its functionality without delay.  You can do this by going to the tab where you clicked `Connect to Jupyter`.  Click the red `Delete` button on your instance.  \n",
    "\n",
    "If you've accidentally closed this tab, simply go back to the [ACCRE Portal](https://portal.accre.vanderbilt.edu), and click `Interactive Sessions`.  This will show you a list of the current resources of ACCRE you are currently consuming.  Click the red `Delete` button on your instance.  This will release the resources of the cluster back to others who may need to use it.  Recall that ACCRE is a shared computing resource; make sure you always use it responsibly."
   ]
  }
 ],
 "metadata": {
  "kernelspec": {
   "display_name": "Python 3",
   "language": "python",
   "name": "python3"
  },
  "language_info": {
   "codemirror_mode": {
    "name": "ipython",
    "version": 3
   },
   "file_extension": ".py",
   "mimetype": "text/x-python",
   "name": "python",
   "nbconvert_exporter": "python",
   "pygments_lexer": "ipython3",
   "version": "3.7.1"
  }
 },
 "nbformat": 4,
 "nbformat_minor": 2
}
